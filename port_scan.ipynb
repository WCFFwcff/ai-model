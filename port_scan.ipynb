{
  "nbformat": 4,
  "nbformat_minor": 0,
  "metadata": {
    "colab": {
      "provenance": [],
      "authorship_tag": "ABX9TyP26QPlfX2FF6sG4kXD7uRo",
      "include_colab_link": true
    },
    "kernelspec": {
      "name": "python3",
      "display_name": "Python 3"
    },
    "language_info": {
      "name": "python"
    }
  },
  "cells": [
    {
      "cell_type": "markdown",
      "metadata": {
        "id": "view-in-github",
        "colab_type": "text"
      },
      "source": [
        "<a href=\"https://colab.research.google.com/github/WCFFwcff/ai-model/blob/main/port_scan.ipynb\" target=\"_parent\"><img src=\"https://colab.research.google.com/assets/colab-badge.svg\" alt=\"Open In Colab\"/></a>"
      ]
    },
    {
      "cell_type": "markdown",
      "source": [
        "phase 1"
      ],
      "metadata": {
        "id": "MN5DudMp9SHn"
      }
    },
    {
      "cell_type": "code",
      "source": [
        "# prompt: give the code to for port scanning\n",
        "\n",
        "import socket\n",
        "\n",
        "def port_scanner(target, port_range):\n",
        "  open_ports = []\n",
        "  for port in range(port_range[0], port_range[1] + 1):\n",
        "    try:\n",
        "      with socket.socket(socket.AF_INET, socket.SOCK_STREAM) as s:\n",
        "        s.settimeout(1)  # Set a timeout to avoid hanging\n",
        "        s.connect((target, port))\n",
        "        open_ports.append(port)\n",
        "        print(f\"Port {port} is open\")\n",
        "    except (ConnectionRefusedError, TimeoutError, OSError):\n",
        "      #print(f\"Port {port} is closed or filtered\") #uncomment to see closed ports\n",
        "      pass #pass for cleaner output\n",
        "\n",
        "  return open_ports\n",
        "\n",
        "if __name__ == \"__main__\":\n",
        "  target_host = input(\"Enter target host: \") #Get target from user\n",
        "  start_port = int(input(\"Enter starting port: \")) #starting port\n",
        "  end_port = int(input(\"Enter ending port: \")) #end port\n",
        "\n",
        "  if not (1 <= start_port <= 65535 and 1 <= end_port <= 65535 and start_port <= end_port):\n",
        "    print(\"Invalid port range.\")\n",
        "  else:\n",
        "    scanned_ports = port_scanner(target_host, (start_port, end_port))\n",
        "    if scanned_ports:\n",
        "      print(f\"Open ports found on {target_host}: {scanned_ports}\")\n",
        "    else:\n",
        "      print(f\"No open ports found on {target_host} in the specified range.\")"
      ],
      "metadata": {
        "colab": {
          "base_uri": "https://localhost:8080/"
        },
        "id": "JNDsKlj2693Q",
        "outputId": "f333f395-1bbf-4179-e273-3a1330733827"
      },
      "execution_count": 10,
      "outputs": [
        {
          "output_type": "stream",
          "name": "stdout",
          "text": [
            "Enter target host: https://colab.research.google.com/drive/144wWJBupCou9XHv5UrE-Fi9DBgOfiw7U#scrollTo=JNDsKlj2693Q\n",
            "Enter starting port: 4444\n",
            "Enter ending port: 8888\n",
            "No open ports found on https://colab.research.google.com/drive/144wWJBupCou9XHv5UrE-Fi9DBgOfiw7U#scrollTo=JNDsKlj2693Q in the specified range.\n"
          ]
        }
      ]
    },
    {
      "cell_type": "code",
      "source": [
        "# prompt: # prompt: give the code to for port scanning\n",
        "# import socket\n",
        "# def port_scanner(target, port_range):\n",
        "#   open_ports = []\n",
        "#   for port in range(port_range[0], port_range[1] + 1):\n",
        "#     try:\n",
        "#       with socket.socket(socket.AF_INET, socket.SOCK_STREAM) as s:\n",
        "#         s.settimeout(1)  # Set a timeout to avoid hanging\n",
        "#         s.connect((target, port))\n",
        "#         open_ports.append(port)\n",
        "#         print(f\"Port {port} is open\")\n",
        "#     except (ConnectionRefusedError, TimeoutError, OSError):\n",
        "#       #print(f\"Port {port} is closed or filtered\") #uncomment to see closed ports\n",
        "#       pass #pass for cleaner output\n",
        "#   return open_ports\n",
        "# if __name__ == \"__main__\":\n",
        "#   target_host = input(\"Enter target host: \") #Get target from user\n",
        "#   start_port = int(input(\"Enter starting port: \")) #starting port\n",
        "#   end_port = int(input(\"Enter ending port: \")) #end port\n",
        "#   if not (1 <= start_port <= 65535 and 1 <= end_port <= 65535 and start_port <= end_port):\n",
        "#     print(\"Invalid port range.\")\n",
        "#   else:\n",
        "#     scanned_ports = port_scanner(target_host, (start_port, end_port))\n",
        "#     if scanned_ports:\n",
        "#       print(f\"Open ports found on {target_host}: {scanned_ports}\")\n",
        "#     else:\n",
        "#       print(f\"No open ports found on {target_host} in the specified range.\") add svm to the code\n",
        "\n",
        "import socket\n",
        "from sklearn import svm\n",
        "import numpy as np\n",
        "\n",
        "def port_scanner(target, port_range):\n",
        "  open_ports = []\n",
        "  for port in range(port_range[0], port_range[1] + 1):\n",
        "    try:\n",
        "      with socket.socket(socket.AF_INET, socket.SOCK_STREAM) as s:\n",
        "        s.settimeout(1)  # Set a timeout to avoid hanging\n",
        "        s.connect((target, port))\n",
        "        open_ports.append(port)\n",
        "        print(f\"Port {port} is open\")\n",
        "    except (ConnectionRefusedError, TimeoutError, OSError):\n",
        "      pass\n",
        "  return open_ports\n",
        "\n",
        "# Example usage with SVM (this part needs more context for proper implementation)\n",
        "if __name__ == \"__main__\":\n",
        "  target_host = input(\"Enter target host: \")\n",
        "  start_port = int(input(\"Enter starting port: \"))\n",
        "  end_port = int(input(\"Enter ending port: \"))\n",
        "\n",
        "  if not (1 <= start_port <= 65535 and 1 <= end_port <= 65535 and start_port <= end_port):\n",
        "    print(\"Invalid port range.\")\n",
        "  else:\n",
        "    scanned_ports = port_scanner(target_host, (start_port, end_port))\n",
        "\n",
        "    if scanned_ports:\n",
        "      print(f\"Open ports found on {target_host}: {scanned_ports}\")\n",
        "\n",
        "      # Example:  Simulate training data for an SVM (replace with real data)\n",
        "      X = np.array([[port] for port in scanned_ports])\n",
        "      y = np.array([1] * len(scanned_ports)) # Assume all open ports are \"positive\" examples.\n",
        "\n",
        "      # Create and train an SVM classifier\n",
        "      clf = svm.SVC()\n",
        "      clf.fit(X, y)\n",
        "\n",
        "      # Example: Predict if a new port is likely to be open\n",
        "      new_port = 8080\n",
        "      prediction = clf.predict(np.array([[new_port]]))\n",
        "      print(f\"Prediction for port {new_port}: {prediction[0]}\") #Output will be 1 if SVM predicts the new port is open, 0 otherwise.\n",
        "\n",
        "    else:\n",
        "      print(f\"No open ports found on {target_host} in the specified range.\")"
      ],
      "metadata": {
        "colab": {
          "base_uri": "https://localhost:8080/"
        },
        "id": "xUWYr7Rn7vgv",
        "outputId": "f561f2d3-3a0b-4f1c-eefd-10af6518c2a1"
      },
      "execution_count": 12,
      "outputs": [
        {
          "output_type": "stream",
          "name": "stdout",
          "text": [
            "Enter target host: https://www.claidas.com/\n",
            "Enter starting port: 4444\n",
            "Enter ending port: 8888\n",
            "No open ports found on https://www.claidas.com/ in the specified range.\n"
          ]
        }
      ]
    },
    {
      "cell_type": "markdown",
      "source": [
        "finnal code"
      ],
      "metadata": {
        "id": "Kembmlee9XQ8"
      }
    },
    {
      "cell_type": "code",
      "source": [
        "import socket\n",
        "from sklearn import svm\n",
        "from sklearn.model_selection import train_test_split, GridSearchCV\n",
        "from sklearn.preprocessing import StandardScaler\n",
        "import numpy as np\n",
        "import random\n",
        "\n",
        "def port_scanner(target, port_range):\n",
        "    \"\"\"Scan the target host for open ports in the specified range.\"\"\"\n",
        "    open_ports = []\n",
        "    for port in range(port_range[0], port_range[1] + 1):\n",
        "        try:\n",
        "            with socket.socket(socket.AF_INET, socket.SOCK_STREAM) as s:\n",
        "                s.settimeout(1)  # Set a timeout to avoid hanging\n",
        "                s.connect((target, port))\n",
        "                open_ports.append(port)\n",
        "                print(f\"Port {port} is open\")\n",
        "        except (ConnectionRefusedError, TimeoutError, OSError):\n",
        "            pass\n",
        "    return open_ports\n",
        "\n",
        "def generate_training_data(port_range, open_ports):\n",
        "    \"\"\"Generate training data with port features and labels.\"\"\"\n",
        "    data = []\n",
        "    labels = []\n",
        "\n",
        "    # Add open ports as positive examples\n",
        "    for port in open_ports:\n",
        "        data.append([port])\n",
        "        labels.append(1)  # Label 1 for open ports\n",
        "\n",
        "    # Add random closed ports as negative examples\n",
        "    closed_ports = set(range(port_range[0], port_range[1] + 1)) - set(open_ports)\n",
        "    closed_ports_sample = random.sample(closed_ports, min(len(closed_ports), len(open_ports) * 2))\n",
        "    for port in closed_ports_sample:\n",
        "        data.append([port])\n",
        "        labels.append(0)  # Label 0 for closed ports\n",
        "\n",
        "    return np.array(data), np.array(labels)\n",
        "\n",
        "if __name__ == \"__main__\":\n",
        "    target_host = input(\"Enter target host: \")\n",
        "    start_port = int(input(\"Enter starting port: \"))\n",
        "    end_port = int(input(\"Enter ending port: \"))\n",
        "\n",
        "    if not (1 <= start_port <= 65535 and 1 <= end_port <= 65535 and start_port <= end_port):\n",
        "        print(\"Invalid port range.\")\n",
        "    else:\n",
        "        scanned_ports = port_scanner(target_host, (start_port, end_port))\n",
        "\n",
        "        if scanned_ports:\n",
        "            print(f\"Open ports found on {target_host}: {scanned_ports}\")\n",
        "\n",
        "            # Generate training data\n",
        "            X, y = generate_training_data((start_port, end_port), scanned_ports)\n",
        "\n",
        "            # Standardize the data\n",
        "            scaler = StandardScaler()\n",
        "            X = scaler.fit_transform(X)\n",
        "\n",
        "            # Split data into training and test sets\n",
        "            X_train, X_test, y_train, y_test = train_test_split(X, y, test_size=0.2, random_state=42)\n",
        "\n",
        "            # Create and train an SVM classifier with hyperparameter tuning\n",
        "            param_grid = {'C': [0.1, 1, 10], 'kernel': ['linear', 'rbf'], 'gamma': [0.1, 1, 10]}\n",
        "            clf = GridSearchCV(svm.SVC(), param_grid, cv=5)\n",
        "            clf.fit(X_train, y_train)\n",
        "\n",
        "            print(\"Best parameters for SVM:\", clf.best_params_)\n",
        "            print(f\"SVM model accuracy on test set: {clf.score(X_test, y_test):.2f}\")\n",
        "\n",
        "            # Predict if a new port is likely to be open\n",
        "            new_port = int(input(\"Enter a port to predict if it's open: \"))\n",
        "            new_port_scaled = scaler.transform([[new_port]])\n",
        "            prediction = clf.predict(new_port_scaled)\n",
        "            print(f\"Prediction for port {new_port}: {'Open' if prediction[0] == 1 else 'Closed'}\")\n",
        "\n",
        "        else:\n",
        "            print(f\"No open ports found on {target_host} in the specified range.\")\n"
      ],
      "metadata": {
        "colab": {
          "base_uri": "https://localhost:8080/"
        },
        "id": "v-cmo7Ez80L0",
        "outputId": "d157212d-64f8-429c-d3d7-e3a0b0986fbf"
      },
      "execution_count": 15,
      "outputs": [
        {
          "output_type": "stream",
          "name": "stdout",
          "text": [
            "Enter target host: https://www.claidas.com/\n",
            "Enter starting port: 4444\n",
            "Enter ending port: 8888\n",
            "No open ports found on https://www.claidas.com/ in the specified range.\n"
          ]
        }
      ]
    }
  ]
}